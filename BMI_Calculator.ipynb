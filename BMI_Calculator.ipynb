{
 "cells": [
  {
   "cell_type": "markdown",
   "id": "1e0576cb-39a2-46e8-bf6a-1865d997dea5",
   "metadata": {},
   "source": [
    "# BMI Calculator Project"
   ]
  },
  {
   "cell_type": "markdown",
   "id": "86f93098-728d-4468-88bb-12f213593281",
   "metadata": {},
   "source": [
    "**👩🏻‍💻 Owner:** Buse Şimşek  \n",
    "**🗓️ Date:** June 19, 2025\n",
    "\n",
    "**📌 Description:**\n",
    "This project calculates the Body Mass Index (BMI) using a person's height and weight.  \n",
    "It then classifies the result into standard health categories such as underweight, normal, overweight, and obese.\n",
    "\n",
    "**🎯 Goal:**\n",
    "Provide a simple and interactive way to assess an individual's BMI and interpret the result using Python."
   ]
  },
  {
   "cell_type": "markdown",
   "id": "00f91590-dd1b-4351-b3bb-4bc150261eca",
   "metadata": {},
   "source": [
    "| **Classification**   | **BMI range (kg/m²)** |\n",
    "|----------------------|------------------------|\n",
    "| Severe Thinness      | < 16                   |\n",
    "| Moderate Thinness    | 16 - 17                |\n",
    "| Mild Thinness        | 17 - 18.5              |\n",
    "| Normal               | 18.5 - 25              |\n",
    "| Overweight           | 25 - 30                |\n",
    "| Obese Class I        | 30 - 35                |\n",
    "| Obese Class II       | 35 - 40                |\n",
    "| Obese Class III      | > 40                   |\n",
    "\n",
    "BMI classification ranges referenced from [Calculator.net BMI Calculator](https://www.calculator.net/bmi-calculator.html), accessed June 2025."
   ]
  },
  {
   "cell_type": "code",
   "execution_count": 5,
   "id": "fd92312f-a786-48a6-8f5e-7a466515799d",
   "metadata": {},
   "outputs": [
    {
     "name": "stdin",
     "output_type": "stream",
     "text": [
      "Enter your name:  buse\n",
      "Buse, enter your weight in kgs:  56\n",
      "Buse, enter your height in cms:  160\n"
     ]
    },
    {
     "name": "stdout",
     "output_type": "stream",
     "text": [
      "Buse, your BMI is 21.9.\n",
      "You are in the Normal weight range. Keep up the good work maintaining a healthy lifestyle!\n"
     ]
    }
   ],
   "source": [
    "name = input(\"Enter your name: \")\n",
    "\n",
    "while True:\n",
    "    try:\n",
    "        weight = float(input(f\"{name.title()}, enter your weight in kgs: \"))\n",
    "        height = float(input(f\"{name.title()}, enter your height in cms: \"))\n",
    "\n",
    "        if weight <= 0 or height <= 0:\n",
    "            print(\"Weight and height must be positive numbers. Please try again.\\n\")\n",
    "            continue\n",
    "\n",
    "        height_m = height / 100  # converting height from cm to meters for the BMI formula\n",
    "        bmi = weight / (height_m ** 2)\n",
    "        \n",
    "        print(f\"{name.title()}, your BMI is {bmi:.1f}.\")\n",
    "\n",
    "        if bmi > 0:\n",
    "            if bmi < 16:\n",
    "                print(\"You are in the Severe Thinness category. Please consult a healthcare provider as soon as possible.\")\n",
    "            elif 16 <= bmi < 17:\n",
    "                print(\"You are in the Moderate Thinness category. It's recommended to seek medical advice for proper guidance.\")\n",
    "            elif 17 <= bmi < 18.5:\n",
    "                print(\"You are in the Mild Thinness category. A healthcare provider can help you reach a healthier weight.\")\n",
    "            elif 18.5 <= bmi < 25:\n",
    "                print(\"You are in the Normal weight range. Keep up the good work maintaining a healthy lifestyle!\")\n",
    "            elif 25 <= bmi < 30:\n",
    "                print(\"You are in the Overweight range. Consider reviewing your diet and activity level with a professional.\")\n",
    "            elif 30 <= bmi < 35:\n",
    "                print(\"This falls under Obese Class I. It may be beneficial to consult with a healthcare provider for guidance.\")\n",
    "            elif 35 <= bmi < 40:\n",
    "                print(\"This falls under Obese Class II. Professional support could help you take positive steps for your health.\")\n",
    "            else:\n",
    "                print(\"This falls under Obese Class III. It's important to seek medical advice to manage your health effectively.\")\n",
    "                \n",
    "            break  # valid input and result shown, time to exit the loop\n",
    "\n",
    "    except ValueError:\n",
    "        print(\"Invalid input. Please enter numeric values.\\n\")\n",
    "    "
   ]
  }
 ],
 "metadata": {
  "kernelspec": {
   "display_name": "Python [conda env:base] *",
   "language": "python",
   "name": "conda-base-py"
  },
  "language_info": {
   "codemirror_mode": {
    "name": "ipython",
    "version": 3
   },
   "file_extension": ".py",
   "mimetype": "text/x-python",
   "name": "python",
   "nbconvert_exporter": "python",
   "pygments_lexer": "ipython3",
   "version": "3.12.7"
  }
 },
 "nbformat": 4,
 "nbformat_minor": 5
}
